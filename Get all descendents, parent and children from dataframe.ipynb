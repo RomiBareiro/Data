{
 "cells": [
  {
   "cell_type": "code",
   "execution_count": 2,
   "id": "9569f0fc",
   "metadata": {},
   "outputs": [
    {
     "name": "stdout",
     "output_type": "stream",
     "text": [
      "{'102704256': {'children': None, 'parent': '10270'}, '102702128': {'children': None, 'parent': '10270'}, '102701064': {'children': None, 'parent': '10270'}, '102700532': {'children': None, 'parent': '10270'}, '102700266': {'children': None, 'parent': '10270'}, '102700133': {'children': None, 'parent': '10270'}, '102700066': {'children': None, 'parent': '10270'}, '102700033': {'children': None, 'parent': '10270'}, '102700016': {'children': None, 'parent': '10270'}, '102700008': {'children': None, 'parent': '10270'}, '102700004': {'children': None, 'parent': '10270'}, '102700002': {'children': None, 'parent': '10270'}, '10270': {'parent': '1027', 'children': ['102704256', '102702128', '102701064', '102700532', '102700266', '102700133', '102700066', '102700033', '102700016', '102700008', '102700004', '102700002', '10270']}, '1027': {'parent': '1', 'children': ['10270']}, '1': {'parent': None, 'children': ['1027']}}\n"
     ]
    }
   ],
   "source": [
    "import sys\n",
    "\n",
    "def get_tree_from_dataframe(data_frame):\n",
    "    \"\"\"Get tree information from a given dataframe (ROOT_TO_LEAF)\n",
    "    Keyword arguments:\n",
    "    data_frame -- Dataframe list (ROOT_TO_LEAF field from DB)\n",
    "    tree -- Dictionary that contains all information about children and parents\n",
    "    \"\"\"\n",
    "    data_frame = data_frame[::-1] # reverse dataframe to get last children\n",
    "    previous_level_children = []\n",
    "    children = []\n",
    "    tree = {}\n",
    "\n",
    "    for node in data_frame:\n",
    "        matching = [s for s in data_frame if node in s]\n",
    "        children_qtty = len(matching) -1\n",
    "        tree[node]={'parent': None}\n",
    "        tree[node].update({'children':None})\n",
    "\n",
    "        if children_qtty != 0:\n",
    "            children = matching\n",
    "            tree[node].update({'children':children})\n",
    "            intersection =  list(set(previous_level_children) and set(children))\n",
    "            \n",
    "            if intersection == []:\n",
    "                for child in children[0:-1]:\n",
    "                    if tree[child].get('parent') is None:\n",
    "                        tree[child].update({'parent': node}) \n",
    "            else:\n",
    "                exclusion = list(set(children[0:-1]) - set(previous_level_children[0:-1]) )\n",
    "                tree[node].update({'children': exclusion})\n",
    "                for elem in exclusion:\n",
    "                    if tree[elem].get('parent') is None:\n",
    "                        tree[elem].update({'parent': node})\n",
    "\n",
    "            previous_level_children  = children\n",
    "        else: #childrenless\n",
    "            tree[node] = {'children': None}\n",
    "    return tree\n",
    "    \n",
    "\n",
    "data_frame = [ '1', '1027', '10270', '102700002', '102700004', '102700008', '102700016', '102700033', '102700066', '102700133', '102700266', '102700532', '102701064', '102702128', '102704256' ]\n",
    "tree = get_tree_from_dataframe(data_frame)\n",
    "print(tree)"
   ]
  },
  {
   "cell_type": "code",
   "execution_count": null,
   "id": "6d677a72",
   "metadata": {},
   "outputs": [],
   "source": []
  }
 ],
 "metadata": {
  "kernelspec": {
   "display_name": "Python 3.7",
   "language": "python",
   "name": "python37"
  },
  "language_info": {
   "codemirror_mode": {
    "name": "ipython",
    "version": 3
   },
   "file_extension": ".py",
   "mimetype": "text/x-python",
   "name": "python",
   "nbconvert_exporter": "python",
   "pygments_lexer": "ipython3",
   "version": "3.7.9"
  }
 },
 "nbformat": 4,
 "nbformat_minor": 5
}
